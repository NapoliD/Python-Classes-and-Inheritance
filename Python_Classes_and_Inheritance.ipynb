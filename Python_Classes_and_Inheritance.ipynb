{
  "nbformat": 4,
  "nbformat_minor": 0,
  "metadata": {
    "colab": {
      "name": "Python Classes and Inheritance.ipynb",
      "provenance": [],
      "authorship_tag": "ABX9TyNeMYSA2vRbHLT/D5xHULvg",
      "include_colab_link": true
    },
    "kernelspec": {
      "name": "python3",
      "display_name": "Python 3"
    }
  },
  "cells": [
    {
      "cell_type": "markdown",
      "metadata": {
        "id": "view-in-github",
        "colab_type": "text"
      },
      "source": [
        "<a href=\"https://colab.research.google.com/github/NapoliD/Python-Classes-and-Inheritance/blob/main/Python_Classes_and_Inheritance.ipynb\" target=\"_parent\"><img src=\"https://colab.research.google.com/assets/colab-badge.svg\" alt=\"Open In Colab\"/></a>"
      ]
    },
    {
      "cell_type": "markdown",
      "metadata": {
        "id": "s4nZHxzC64gp"
      },
      "source": [
        "Create a class called Animal that accepts two numbers as inputs and assigns them respectively to two instance variables: arms and legs. Create an instance method called limbs that, when called, returns the total number of limbs the animal has. To the variable name spider, assign an instance of Animal that has 4 arms and 4 legs. Call the limbs method on the spider instance and save the result to the variable name spidlimbs"
      ]
    },
    {
      "cell_type": "code",
      "metadata": {
        "id": "WX3X64cq6ym4"
      },
      "source": [
        "class Animal:\r\n",
        "    def __init__(self, arms, legs):\r\n",
        "        self.arms=arms\r\n",
        "        self.legs=legs\r\n",
        "        \r\n",
        "    def limbs(self):\r\n",
        "        return self.arms+self.legs\r\n",
        "    \r\n",
        "           \r\n",
        "spider=Animal(4,4)\r\n",
        "spidlimbs=spider.limbs()"
      ],
      "execution_count": null,
      "outputs": []
    },
    {
      "cell_type": "markdown",
      "metadata": {
        "id": "AKJ6Al5hZhZN"
      },
      "source": [
        "Create a class called Cereal that accepts three inputs: 2 strings and 1 integer, and assigns them to 3 instance variables in the constructor: name, brand, and fiber. When an instance of Cereal is printed, the user should see the following: “[name] cereal is produced by [brand] and has [fiber integer] grams of fiber in every serving!” To the variable name c1, assign an instance of Cereal whose name is \"Corn Flakes\", brand is \"Kellogg's\", and fiber is 2. To the variable name c2, assign an instance of Cereal whose name is \"Honey Nut Cheerios\", brand is \"General Mills\", and fiber is 3. Practice printing both!\r\n"
      ]
    },
    {
      "cell_type": "code",
      "metadata": {
        "id": "0DKTR-cj8kzI"
      },
      "source": [
        "class Cereal:\r\n",
        "    def __init__(self, name, brand, fiber):\r\n",
        "        self.name=name\r\n",
        "        self.brand=brand\r\n",
        "        self.fiber=fiber\r\n",
        "    def __str__(self):\r\n",
        "        return '{} cereal is produced by {} and has {} grams of fiber in every serving!'.format(self.name, self.brand, self.fiber)\r\n",
        "    \r\n",
        " \r\n",
        "c1=Cereal(\"Corn Flakes\",\"Kellogg's\",2)\r\n",
        "c2=Cereal(\"Honey Nut Cheerios\",\"General Mills\",3)\r\n",
        "print(c1)"
      ],
      "execution_count": null,
      "outputs": []
    },
    {
      "cell_type": "markdown",
      "metadata": {
        "id": "OlPqFUx4eXkA"
      },
      "source": [
        "e would like to write a method, let’s call it halfway, which takes another Point as a parameter and returns the Point that is halfway between the point and the target point it accepts as input."
      ]
    },
    {
      "cell_type": "code",
      "metadata": {
        "id": "DbRBDKldZnC-"
      },
      "source": [
        "class Point:\r\n",
        "\r\n",
        "    def __init__(self, initX, initY):\r\n",
        "\r\n",
        "        self.x = initX\r\n",
        "        self.y = initY\r\n",
        "\r\n",
        "    def getX(self):\r\n",
        "        return self.x\r\n",
        "\r\n",
        "    def getY(self):\r\n",
        "        return self.y\r\n",
        "\r\n",
        "    def distanceFromOrigin(self):\r\n",
        "        return ((self.x ** 2) + (self.y ** 2)) ** 0.5\r\n",
        "\r\n",
        "    def __str__(self):\r\n",
        "        return \"x = {}, y = {}\".format(self.x, self.y)\r\n",
        "\r\n",
        "    def halfway(self, target):\r\n",
        "        mx = (self.x + target.x)/2\r\n",
        "        my = (self.y + target.y)/2\r\n",
        "        return Point(mx, my)\r\n",
        "\r\n",
        "p = Point(3,4)\r\n",
        "q = Point(5,12)\r\n",
        "mid = p.halfway(q)\r\n",
        "# note that you would have exactly the same result if you instead wrote\r\n",
        "# mid = q.halfway(p)\r\n",
        "# because they are both Point objects, and the middle is the same no matter what\r\n",
        "\r\n",
        "print(mid)\r\n",
        "print(mid.getX())\r\n",
        "print(mid.getY())\r\n"
      ],
      "execution_count": null,
      "outputs": []
    },
    {
      "cell_type": "markdown",
      "metadata": {
        "id": "GW75Vv8ee8Bi"
      },
      "source": [
        "Sorting Lists of Instances"
      ]
    },
    {
      "cell_type": "code",
      "metadata": {
        "colab": {
          "base_uri": "https://localhost:8080/"
        },
        "id": "ciekpU8le8fN",
        "outputId": "c770658b-8825-4e6f-f9d2-11f5bcb4fbd6"
      },
      "source": [
        "class Fruit:\r\n",
        "    def __init__(self, name, price):\r\n",
        "      self.name = name\r\n",
        "      self.price = price\r\n",
        "    \r\n",
        "    def sort_priority(self):\r\n",
        "      return self.name\r\n",
        "\r\n",
        "L = [\r\n",
        "     Fruit('Cherry', 10),\r\n",
        "     Fruit('Apple', 5),\r\n",
        "     Fruit('Blueberry', 10)\r\n",
        "]\r\n",
        "\r\n",
        "for f in sorted(L, key= Fruit.sort_priority):\r\n",
        "  print(f.name)"
      ],
      "execution_count": null,
      "outputs": [
        {
          "output_type": "stream",
          "text": [
            "Apple\n",
            "Blueberry\n",
            "Cherry\n"
          ],
          "name": "stdout"
        }
      ]
    },
    {
      "cell_type": "code",
      "metadata": {
        "colab": {
          "base_uri": "https://localhost:8080/"
        },
        "id": "5Epxim8qgRHZ",
        "outputId": "2853eb2e-7ef5-479b-96a0-cfd77c042608"
      },
      "source": [
        "class Fruit():\r\n",
        "    def __init__(self, name, price):\r\n",
        "        self.name = name\r\n",
        "        self.price = price\r\n",
        "\r\n",
        "L = [Fruit(\"Cherry\", 10), Fruit(\"Apple\", 5), Fruit(\"Blueberry\", 20)]\r\n",
        "for f in sorted(L, key=lambda x: x.name):\r\n",
        "    print(f.name)\r\n"
      ],
      "execution_count": null,
      "outputs": [
        {
          "output_type": "stream",
          "text": [
            "Apple\n",
            "Blueberry\n",
            "Cherry\n"
          ],
          "name": "stdout"
        }
      ]
    },
    {
      "cell_type": "markdown",
      "metadata": {
        "id": "UYgsrC3BjCqM"
      },
      "source": [
        ""
      ]
    },
    {
      "cell_type": "code",
      "metadata": {
        "id": "XDN9G2XujCMj"
      },
      "source": [
        "class Point:\r\n",
        "    \"\"\" Point class for representing and manipulating x,y coordinates. \"\"\"\r\n",
        "\r\n",
        "    printed_rep = \"*\"\r\n",
        "\r\n",
        "    def __init__(self, initX, initY):\r\n",
        "\r\n",
        "        self.x = initX\r\n",
        "        self.y = initY\r\n",
        "\r\n",
        "    def graph(self):\r\n",
        "        rows = []\r\n",
        "        size = max(int(self.x), int(self.y)) + 2\r\n",
        "        for j in range(size-1) :\r\n",
        "            if (j+1) == int(self.y):\r\n",
        "                special_row = str((j+1) % 10) + (\" \"*(int(self.x) -1)) + self.printed_rep\r\n",
        "                rows.append(special_row)\r\n",
        "            else:\r\n",
        "                rows.append(str((j+1) % 10))\r\n",
        "        rows.reverse()  # put higher values of y first\r\n",
        "        x_axis = \"\"\r\n",
        "        for i in range(size):\r\n",
        "            x_axis += str(i % 10)\r\n",
        "        rows.append(x_axis)\r\n",
        "\r\n",
        "        return \"\\n\".join(rows)\r\n",
        "\r\n",
        "\r\n",
        "p1 = Point(2, 3)\r\n",
        "p2 = Point(3, 12)\r\n",
        "print(p1.graph())\r\n",
        "print()\r\n",
        "print(p2.graph())"
      ],
      "execution_count": null,
      "outputs": []
    },
    {
      "cell_type": "markdown",
      "metadata": {
        "id": "hdmC577WqTME"
      },
      "source": [
        "Create a class called AppleBasket whose constructor accepts two inputs: a string representing a color, and a number representing a quantity of apples. The constructor should initialize two instance variables: apple_color and apple_quantity. Write a class method called increase that increases the quantity by 1 each time it is invoked. You should also write a __str__ method for this class that returns a string of the format: \"A basket of [quantity goes here] [color goes here] apples.\" e.g. \"A basket of 4 red apples.\" or \"A basket of 50 blue apples.\" (Writing some test code that creates instances and assigns values to variables may help you solve this problem!)"
      ]
    },
    {
      "cell_type": "code",
      "metadata": {
        "id": "vo5N-mDgqS1a"
      },
      "source": [
        "\r\n",
        "class AppleBasket:\r\n",
        "    def __init__(self,apple_color,apple_quantity):\r\n",
        "        self.apple_color = apple_color\r\n",
        "        self.apple_quantity = apple_quantity\r\n",
        "        \r\n",
        "    def __str__(self):\r\n",
        "        return 'A basket of {} {} apples.'.format(self.apple_quantity ,self.apple_color)\r\n",
        "    \r\n",
        "    def increase(self):\r\n",
        "        self.apple_quantity += 1\r\n",
        "         \r\n",
        "    \r\n",
        "    \r\n",
        "print(AppleBasket(\"red\",5))"
      ],
      "execution_count": null,
      "outputs": []
    },
    {
      "cell_type": "markdown",
      "metadata": {
        "id": "1L0YouudrlpM"
      },
      "source": [
        "Define a class called BankAccount that accepts the name you want associated with your bank account in a string, and an integer that represents the amount of money in the account. The constructor should initialize two instance variables from those inputs: name and amt. Add a string method so that when you print an instance of BankAccount, you see \"Your account, [name goes here], has [start_amt goes here] dollars.\" Create an instance of this class with \"Bob\" as the name and 100 as the amount. Save this to the variable t1."
      ]
    },
    {
      "cell_type": "code",
      "metadata": {
        "id": "sY7xQ9BwqWeQ"
      },
      "source": [
        "class BankAccount:\r\n",
        "    def __init__(self, name, start_amt):\r\n",
        "        self.name=name\r\n",
        "        self.start_amt=start_amt\r\n",
        "        \r\n",
        "    def __str__(self):\r\n",
        "        return 'Your account, {}, has {} dollars.'.format(self.name,self.start_amt)\r\n",
        "\r\n",
        "t1=BankAccount('Bob',100)\r\n",
        "print(t1)"
      ],
      "execution_count": null,
      "outputs": []
    },
    {
      "cell_type": "markdown",
      "metadata": {
        "id": "0JEH3D_87-XW"
      },
      "source": [
        "Las clases pueden \"heredar\" métodos y variables de clase de otras clases. Veremos la mecánica de cómo funciona esto en secciones posteriores. Primero, sin embargo, motivemos por qué esto podría ser valioso. Resulta que la herencia no te permite hacer nada que no podrías hacer sin ella, pero hace que algunas cosas sean mucho más elegantes. También encontrará que es útil cuando alguien más ha definido una clase en un módulo o biblioteca, y solo desea anular algunas cosas sin tener que volver a implementar todo lo que ha hecho.\r\n",
        "\r\n",
        "Considere nuestro juego Tamagotchi. Supongamos que quisiéramos hacer algunos tipos diferentes de mascotas que tengan la misma estructura que otras mascotas, pero que tengan algunos atributos diferentes o se comporten un poco diferente. Por ejemplo, supongamos que las mascotas perros deberían mostrar su estado emocional un poco diferente al de los gatos o actuar de manera diferente cuando tienen hambre o cuando se les pide que vayan a buscar algo.\r\n",
        "\r\n",
        "Puede implementar esto creando una variable de instancia para el tipo de mascota y enviando esa variable de instancia en varios métodos."
      ]
    },
    {
      "cell_type": "code",
      "metadata": {
        "id": "hXwPvM5G798R"
      },
      "source": [
        "from random import randrange\r\n",
        "\r\n",
        "class Pet():\r\n",
        "    boredom_decrement = 4\r\n",
        "    hunger_decrement = 6\r\n",
        "    boredom_threshold = 5\r\n",
        "    hunger_threshold = 10\r\n",
        "    sounds = ['Mrrp']\r\n",
        "    def __init__(self, name = \"Kitty\", pet_type=\"dog\"):\r\n",
        "        self.name = name\r\n",
        "        self.hunger = randrange(self.hunger_threshold)\r\n",
        "        self.boredom = randrange(self.boredom_threshold)\r\n",
        "        self.sounds = self.sounds[:]  # copy the class attribute, so that when we make changes to it, we won't affect the other Pets in the class\r\n",
        "        self.pet_type = pet_type\r\n",
        "\r\n",
        "    def clock_tick(self):\r\n",
        "        self.boredom += 1\r\n",
        "        self.hunger += 1\r\n",
        "\r\n",
        "    def mood(self):\r\n",
        "        if self.hunger <= self.hunger_threshold and self.boredom <= self.boredom_threshold:\r\n",
        "            if self.pet_type == \"dog\": # if the pet is a dog, it will express its mood in different ways from a cat or any other type of animal\r\n",
        "                return \"happy\"\r\n",
        "            elif self.pet_type == \"cat\":\r\n",
        "                return \"happy, probably\"\r\n",
        "            else:\r\n",
        "                return \"HAPPY\"\r\n",
        "        elif self.hunger > self.hunger_threshold:\r\n",
        "            if self.pet_type == \"dog\": # same for hunger -- dogs and cats will express their hunger a little bit differently in this version of the class definition\r\n",
        "                return \"hungry, arf\"\r\n",
        "            elif self.pet_type == \"cat\":\r\n",
        "                return \"hungry, meeeeow\"\r\n",
        "            else:\r\n",
        "                return \"hungry\"\r\n",
        "        else:\r\n",
        "            return \"bored\"\r\n",
        "\r\n",
        "    def __str__(self):\r\n",
        "        state = \"     I'm \" + self.name + \". \"\r\n",
        "        state += \" I feel \" + self.mood() + \". \"\r\n",
        "        return state\r\n",
        "\r\n",
        "    def hi(self):\r\n",
        "        print(self.sounds[randrange(len(self.sounds))])\r\n",
        "        self.reduce_boredom()\r\n",
        "\r\n",
        "    def teach(self, word):\r\n",
        "        self.sounds.append(word)\r\n",
        "        self.reduce_boredom()\r\n",
        "\r\n",
        "    def feed(self):\r\n",
        "        self.reduce_hunger()\r\n",
        "\r\n",
        "    def reduce_hunger(self):\r\n",
        "        self.hunger = max(0, self.hunger - self.hunger_decrement)\r\n",
        "\r\n",
        "    def reduce_boredom(self):\r\n",
        "        self.boredom = max(0, self.boredom - self.boredom_decrement)"
      ],
      "execution_count": null,
      "outputs": []
    },
    {
      "cell_type": "markdown",
      "metadata": {
        "id": "ceScoxoGX3eh"
      },
      "source": [
        "Mechanics of Defining a Subclass"
      ]
    },
    {
      "cell_type": "code",
      "metadata": {
        "id": "2bqix8uIX3pi"
      },
      "source": [
        "from random import randrange\r\n",
        "\r\n",
        "# Here's the original Pet class\r\n",
        "class Pet():\r\n",
        "    boredom_decrement = 4\r\n",
        "    hunger_decrement = 6\r\n",
        "    boredom_threshold = 5\r\n",
        "    hunger_threshold = 10\r\n",
        "    sounds = ['Mrrp']\r\n",
        "    def __init__(self, name = \"Kitty\"):\r\n",
        "        self.name = name\r\n",
        "        self.hunger = randrange(self.hunger_threshold)\r\n",
        "        self.boredom = randrange(self.boredom_threshold)\r\n",
        "        self.sounds = self.sounds[:]  # copy the class attribute, so that when we make changes to it, we won't affect the other Pets in the class\r\n",
        "\r\n",
        "    def clock_tick(self):\r\n",
        "        self.boredom += 1\r\n",
        "        self.hunger += 1\r\n",
        "\r\n",
        "    def mood(self):\r\n",
        "        if self.hunger <= self.hunger_threshold and self.boredom <= self.boredom_threshold:\r\n",
        "            return \"happy\"\r\n",
        "        elif self.hunger > self.hunger_threshold:\r\n",
        "            return \"hungry\"\r\n",
        "        else:\r\n",
        "            return \"bored\"\r\n",
        "\r\n",
        "    def __str__(self):\r\n",
        "        state = \"     I'm \" + self.name + \". \"\r\n",
        "        state += \" I feel \" + self.mood() + \". \"\r\n",
        "        # state += \"Hunger %d Boredom %d Words %s\" % (self.hunger, self.boredom, self.sounds)\r\n",
        "        return state\r\n",
        "\r\n",
        "    def hi(self):\r\n",
        "        print(self.sounds[randrange(len(self.sounds))])\r\n",
        "        self.reduce_boredom()\r\n",
        "\r\n",
        "    def teach(self, word):\r\n",
        "        self.sounds.append(word)\r\n",
        "        self.reduce_boredom()\r\n",
        "\r\n",
        "    def feed(self):\r\n",
        "        self.reduce_hunger()\r\n",
        "\r\n",
        "    def reduce_hunger(self):\r\n",
        "        self.hunger = max(0, self.hunger - self.hunger_decrement)\r\n",
        "\r\n",
        "    def reduce_boredom(self):\r\n",
        "        self.boredom = max(0, self.boredom - self.boredom_decrement)\r\n",
        "\r\n",
        "# Here's the new definition of class Cat, a subclass of Pet.\r\n",
        "class Cat(Pet): # the class name that the new class inherits from goes in the parentheses, like so.\r\n",
        "    sounds = ['Meow']\r\n",
        "\r\n",
        "    def chasing_rats(self):\r\n",
        "        return \"What are you doing, Pinky? Taking over the world?!\""
      ],
      "execution_count": null,
      "outputs": []
    },
    {
      "cell_type": "code",
      "metadata": {
        "colab": {
          "base_uri": "https://localhost:8080/",
          "height": 229
        },
        "id": "5-H9WoBidQ3G",
        "outputId": "4669609c-d050-449b-a4f2-7205b0312588"
      },
      "source": [
        "class Cheshire(Cat): # this inherits from Cat, which inherits from Pet\r\n",
        "\r\n",
        "    def smile(self): # this method is specific to instances of Cheshire\r\n",
        "        print(\":D :D :D\")\r\n",
        "\r\n",
        "# Let's try it with instances.\r\n",
        "cat1 = Cat(\"Fluffy\")\r\n",
        "cat1.feed() # Totally fine, because the cat class inherits from the Pet class!\r\n",
        "cat1.hi() # Uses the special Cat hello.\r\n",
        "print(cat1)\r\n",
        "\r\n",
        "print(cat1.chasing_rats())\r\n",
        "\r\n",
        "new_cat = Cheshire(\"Pumpkin\") # create a Cheshire cat instance with name \"Pumpkin\"\r\n",
        "new_cat.hi() # same as Cat!\r\n",
        "new_cat.chasing_rats() # OK, because Cheshire inherits from Cat\r\n",
        "new_cat.smile() # Only for Cheshire instances (and any classes that you make inherit from Cheshire)\r\n",
        "\r\n",
        "# cat1.smile() # This line would give you an error, because the Cat class does not have this method!\r\n",
        "\r\n",
        "# None of the subclass methods can be used on the parent class, though.\r\n",
        "p1 = Pet(\"Teddy\")\r\n",
        "p1.hi() # just the regular Pet hello\r\n",
        "#p1.chasing_rats() # This will give you an error -- this method doesn't exist on instances of the Pet class.\r\n",
        "#p1.smile() # This will give "
      ],
      "execution_count": null,
      "outputs": [
        {
          "output_type": "error",
          "ename": "NameError",
          "evalue": "ignored",
          "traceback": [
            "\u001b[0;31m---------------------------------------------------------------------------\u001b[0m",
            "\u001b[0;31mNameError\u001b[0m                                 Traceback (most recent call last)",
            "\u001b[0;32m<ipython-input-1-376fbe021958>\u001b[0m in \u001b[0;36m<module>\u001b[0;34m()\u001b[0m\n\u001b[0;32m----> 1\u001b[0;31m \u001b[0;32mclass\u001b[0m \u001b[0mCheshire\u001b[0m\u001b[0;34m(\u001b[0m\u001b[0mCat\u001b[0m\u001b[0;34m)\u001b[0m\u001b[0;34m:\u001b[0m \u001b[0;31m# this inherits from Cat, which inherits from Pet\u001b[0m\u001b[0;34m\u001b[0m\u001b[0;34m\u001b[0m\u001b[0m\n\u001b[0m\u001b[1;32m      2\u001b[0m \u001b[0;34m\u001b[0m\u001b[0m\n\u001b[1;32m      3\u001b[0m     \u001b[0;32mdef\u001b[0m \u001b[0msmile\u001b[0m\u001b[0;34m(\u001b[0m\u001b[0mself\u001b[0m\u001b[0;34m)\u001b[0m\u001b[0;34m:\u001b[0m \u001b[0;31m# this method is specific to instances of Cheshire\u001b[0m\u001b[0;34m\u001b[0m\u001b[0;34m\u001b[0m\u001b[0m\n\u001b[1;32m      4\u001b[0m         \u001b[0mprint\u001b[0m\u001b[0;34m(\u001b[0m\u001b[0;34m\":D :D :D\"\u001b[0m\u001b[0;34m)\u001b[0m\u001b[0;34m\u001b[0m\u001b[0;34m\u001b[0m\u001b[0m\n\u001b[1;32m      5\u001b[0m \u001b[0;34m\u001b[0m\u001b[0m\n",
            "\u001b[0;31mNameError\u001b[0m: name 'Cat' is not defined"
          ]
        }
      ]
    },
    {
      "cell_type": "code",
      "metadata": {
        "id": "1dIDTdOVdWlZ"
      },
      "source": [
        "new_cat = Cheshire(\"Pumpkin”)\r\n",
        "class Siamese(Cat):\r\n",
        "  def song(self):\r\n",
        "    print(\"We are Siamese if you please. We are Siamese if you don’t please.\")\r\n",
        "another_cat = Siamese(\"Lady\")\r\n",
        "another_cat.song()"
      ],
      "execution_count": null,
      "outputs": []
    },
    {
      "cell_type": "markdown",
      "metadata": {
        "id": "42BN9M0dIfYq"
      },
      "source": [
        "The function mySum is supposed to return the sum of a list of numbers (and 0 if that list is empty), but it has one or more errors in it. Use this space to write test cases to determine what errors there are. You will be using this information to answer the next set of multiple choice questions."
      ]
    },
    {
      "cell_type": "code",
      "metadata": {
        "id": "B2iL7GFzIbGr"
      },
      "source": [
        "def mySum(list):\r\n",
        "    if len(list) > 0:\r\n",
        "        res = 0\r\n",
        "        for i in list:\r\n",
        "            res += i\r\n",
        "        return res\r\n",
        "    else:\r\n",
        "        return 0"
      ],
      "execution_count": null,
      "outputs": []
    },
    {
      "cell_type": "code",
      "metadata": {
        "id": "wCPDD3JBIkU9"
      },
      "source": [
        "class Student:\r\n",
        "    def __init__(self, name, year_UM, knowledge):\r\n",
        "        self.name = name\r\n",
        "        self.year_UM = year_UM\r\n",
        "        self.knowledge = knowledge\r\n",
        "\r\n",
        "    def study(self):\r\n",
        "        self.knowledge += 1\r\n",
        "        return None\r\n",
        "\r\n",
        "    def getKnowledge(self):\r\n",
        "        return self.knowledge\r\n",
        "\r\n",
        "    def year_at_umich(self):\r\n",
        "        return self.year_UM"
      ],
      "execution_count": null,
      "outputs": []
    }
  ]
}